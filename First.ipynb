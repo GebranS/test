{
    "cells": [
        {
            "metadata": {
                "collapsed": true
            },
            "cell_type": "markdown",
            "source": "This is the title of my work"
        },
        {
            "metadata": {},
            "cell_type": "code",
            "source": "points = [32,65,78,21,56,90,232,3254353,87688657,2323]javascript:void(0);\n\nb = []\n\nfor i in points:\n    print(i)\n    c = i*i+1\n    b.append(c)\nprint(b)    ",
            "execution_count": null,
            "outputs": []
        }
    ],
    "metadata": {
        "kernelspec": {
            "name": "python3",
            "display_name": "Python 3.9",
            "language": "python"
        },
        "language_info": {
            "name": "python",
            "version": "3.9.7",
            "mimetype": "text/x-python",
            "codemirror_mode": {
                "name": "ipython",
                "version": 3
            },
            "pygments_lexer": "ipython3",
            "nbconvert_exporter": "python",
            "file_extension": ".py"
        }
    },
    "nbformat": 4,
    "nbformat_minor": 1
}